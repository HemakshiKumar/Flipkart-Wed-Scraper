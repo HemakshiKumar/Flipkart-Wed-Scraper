{
 "cells": [
  {
   "cell_type": "markdown",
   "metadata": {},
   "source": [
    "Coding the functions required for the execution:"
   ]
  },
  {
   "cell_type": "code",
   "execution_count": null,
   "metadata": {},
   "outputs": [],
   "source": [
    "#IMPORTING IMP LIBRARIES\n",
    "\n",
    "from bs4 import BeautifulSoup as bs\n",
    "import requests\n",
    "import pandas as pd"
   ]
  },
  {
   "cell_type": "code",
   "execution_count": null,
   "metadata": {},
   "outputs": [
    {
     "data": {
      "text/plain": [
       "<Response [200]>"
      ]
     },
     "execution_count": 2,
     "metadata": {},
     "output_type": "execute_result"
    }
   ],
   "source": [
    "#URL REQUEST\n",
    "url = \"https://www.flipkart.com/search?q=bluetooth%20headset%20&otracker=search&otracker1=search&marketplace=FLIPKART&as-show=on&as=off\"\n",
    "\n",
    "header_for_request = ({\"User-Agent\":\"Mozilla/5.0 (Windows NT 10.0; Win64; x64) AppleWebKit/537.36 (KHTML, like Gecko) Chrome/131.0.0.0 Safari/537.36\", \"Accept-Language\":\"en-US, en;q =0.5\"})\n",
    "\n",
    "webpage = requests.get(url, headers=header_for_request)\n",
    "webpage"
   ]
  },
  {
   "cell_type": "code",
   "execution_count": null,
   "metadata": {},
   "outputs": [],
   "source": [
    "#FINDING ALL LINKS OF THE PAGE\n",
    "\n",
    "def find_product_links():\n",
    "    content = bs(webpage.content, \"html.parser\")\n",
    "    anchortags = content.find_all(\"a\", attrs={\"class\":\"wjcEIp\"} )\n",
    "    all_links = []\n",
    "    for i in anchortags:\n",
    "        link = i.get(\"href\")\n",
    "        all_links.append(\"https://flipkart.com\"+link)\n",
    "    return all_links"
   ]
  },
  {
   "cell_type": "code",
   "execution_count": 4,
   "metadata": {},
   "outputs": [],
   "source": [
    "def get_product_title(product_content):\n",
    "    try:\n",
    "        return product_content.find(\"span\", attrs={\"class\":\"VU-ZEz\"}).text.strip()\n",
    "    except:\n",
    "        return \"\"\n",
    "    \n",
    "def get_product_price(product_content):\n",
    "    try:\n",
    "        return product_content.find(\"div\", attrs={\"class\":\"Nx9bqj CxhGGd\"}).text\n",
    "    except:\n",
    "        return \"\"\n",
    "\n",
    "def get_product_rating(product_content):\n",
    "    try:\n",
    "        return product_content.find(\"div\", attrs={\"class\":\"XQDdHH\"}).text\n",
    "    except:\n",
    "        return \"\"\n",
    "    \n",
    "def get_product_details(product_content):\n",
    "    try:\n",
    "        hg = product_content.find_all(\"li\", attrs={\"class\":\"_7eSDEz\"})\n",
    "        details = \"\"\n",
    "        for i in hg:\n",
    "            details += i.text + \"; \"\n",
    "        return details\n",
    "    except:\n",
    "        return \"\"\n",
    "    \n",
    "def rep_policy(product_content):\n",
    "    try:\n",
    "        hg = product_content.find_all(\"li\", attrs={\"class\":\"_1u+DIo\"})\n",
    "        repa_policy = \"\"\n",
    "        for i in hg:\n",
    "           repa_policy += i.text + \"; \"\n",
    "        return repa_policy\n",
    "    except:\n",
    "        return \"\"\n"
   ]
  },
  {
   "cell_type": "markdown",
   "metadata": {},
   "source": [
    "Code Execution"
   ]
  },
  {
   "cell_type": "code",
   "execution_count": 6,
   "metadata": {},
   "outputs": [],
   "source": [
    "data = {\"TITLE\":[], \"PRICE\":[], \"RATING\":[], \"DETAILS\":[], \"RETURN POLICY\":[]}\n",
    "all_links = find_product_links()\n",
    "for i in all_links:\n",
    "    product_webpage = requests.get(i, headers= header_for_request)\n",
    "    product_content = bs(product_webpage.content, \"html.parser\")\n",
    "    product_title = get_product_title(product_content)\n",
    "    product_price = get_product_price(product_content)\n",
    "    product_rating = get_product_rating(product_content)\n",
    "    product_details = get_product_details(product_content)\n",
    "    replacement_policy = rep_policy(product_content)\n",
    "    data[\"TITLE\"].append(product_title)\n",
    "    data[\"PRICE\"].append(product_price)\n",
    "    data[\"RATING\"].append(product_rating)\n",
    "    data[\"DETAILS\"].append(product_details)\n",
    "    data[\"RETURN POLICY\"].append(replacement_policy)\n",
    "\n",
    "scraped_data = pd.DataFrame.from_dict(data)\n",
    "scraped_data.to_csv(\"flipkart_data.csv\", header=True, index=False)\n"
   ]
  },
  {
   "cell_type": "markdown",
   "metadata": {},
   "source": [
    "What our CSV looks like:"
   ]
  },
  {
   "cell_type": "code",
   "execution_count": 7,
   "metadata": {},
   "outputs": [
    {
     "data": {
      "text/html": [
       "<div>\n",
       "<style scoped>\n",
       "    .dataframe tbody tr th:only-of-type {\n",
       "        vertical-align: middle;\n",
       "    }\n",
       "\n",
       "    .dataframe tbody tr th {\n",
       "        vertical-align: top;\n",
       "    }\n",
       "\n",
       "    .dataframe thead th {\n",
       "        text-align: right;\n",
       "    }\n",
       "</style>\n",
       "<table border=\"1\" class=\"dataframe\">\n",
       "  <thead>\n",
       "    <tr style=\"text-align: right;\">\n",
       "      <th></th>\n",
       "      <th>TITLE</th>\n",
       "      <th>PRICE</th>\n",
       "      <th>RATING</th>\n",
       "      <th>DETAILS</th>\n",
       "      <th>RETURN POLICY</th>\n",
       "    </tr>\n",
       "  </thead>\n",
       "  <tbody>\n",
       "    <tr>\n",
       "      <th>0</th>\n",
       "      <td>Aroma NB120 Amaze Upto 50 Hours* Playtime, Fas...</td>\n",
       "      <td>₹399</td>\n",
       "      <td>4</td>\n",
       "      <td>With Mic:Yes; Bluetooth version: v5.3; Wireles...</td>\n",
       "      <td>7 Days Replacement Policy?;</td>\n",
       "    </tr>\n",
       "    <tr>\n",
       "      <th>1</th>\n",
       "      <td>Aroma NB119 Titanium - 48 Hours Playtime Neckb...</td>\n",
       "      <td>₹450</td>\n",
       "      <td>3.9</td>\n",
       "      <td>With Mic:Yes; Bluetooth version: v5.0; Wireles...</td>\n",
       "      <td>7 Days Replacement Policy?;</td>\n",
       "    </tr>\n",
       "    <tr>\n",
       "      <th>2</th>\n",
       "      <td>OnePlus Bullets Wireless Z2 Bluetooth  (Magico...</td>\n",
       "      <td>₹1,299</td>\n",
       "      <td>4.3</td>\n",
       "      <td>With Mic:Yes; Bluetooth version: 5; Battery li...</td>\n",
       "      <td>7 Days Service Center Replacement/Repair?; GST...</td>\n",
       "    </tr>\n",
       "    <tr>\n",
       "      <th>3</th>\n",
       "      <td>Apple AirPods Pro (2nd generation) with MagSaf...</td>\n",
       "      <td>₹17,999</td>\n",
       "      <td>4.6</td>\n",
       "      <td>With Mic:Yes; Connector type: No; Apple-design...</td>\n",
       "      <td>No Returns Applicable?; GST invoice available?;</td>\n",
       "    </tr>\n",
       "    <tr>\n",
       "      <th>4</th>\n",
       "      <td>OnePlus Bullets Wireless Z2 Bluetooth  (Acoust...</td>\n",
       "      <td>₹1,299</td>\n",
       "      <td>4.3</td>\n",
       "      <td>With Mic:Yes; Bluetooth version: 5; Battery li...</td>\n",
       "      <td>7 Days Service Center Replacement/Repair?; GST...</td>\n",
       "    </tr>\n",
       "  </tbody>\n",
       "</table>\n",
       "</div>"
      ],
      "text/plain": [
       "                                               TITLE    PRICE RATING  \\\n",
       "0  Aroma NB120 Amaze Upto 50 Hours* Playtime, Fas...     ₹399      4   \n",
       "1  Aroma NB119 Titanium - 48 Hours Playtime Neckb...     ₹450    3.9   \n",
       "2  OnePlus Bullets Wireless Z2 Bluetooth  (Magico...   ₹1,299    4.3   \n",
       "3  Apple AirPods Pro (2nd generation) with MagSaf...  ₹17,999    4.6   \n",
       "4  OnePlus Bullets Wireless Z2 Bluetooth  (Acoust...   ₹1,299    4.3   \n",
       "\n",
       "                                             DETAILS  \\\n",
       "0  With Mic:Yes; Bluetooth version: v5.3; Wireles...   \n",
       "1  With Mic:Yes; Bluetooth version: v5.0; Wireles...   \n",
       "2  With Mic:Yes; Bluetooth version: 5; Battery li...   \n",
       "3  With Mic:Yes; Connector type: No; Apple-design...   \n",
       "4  With Mic:Yes; Bluetooth version: 5; Battery li...   \n",
       "\n",
       "                                       RETURN POLICY  \n",
       "0                       7 Days Replacement Policy?;   \n",
       "1                       7 Days Replacement Policy?;   \n",
       "2  7 Days Service Center Replacement/Repair?; GST...  \n",
       "3   No Returns Applicable?; GST invoice available?;   \n",
       "4  7 Days Service Center Replacement/Repair?; GST...  "
      ]
     },
     "execution_count": 7,
     "metadata": {},
     "output_type": "execute_result"
    }
   ],
   "source": [
    "scraped_data.head()"
   ]
  }
 ],
 "metadata": {
  "kernelspec": {
   "display_name": "Python 3",
   "language": "python",
   "name": "python3"
  },
  "language_info": {
   "codemirror_mode": {
    "name": "ipython",
    "version": 3
   },
   "file_extension": ".py",
   "mimetype": "text/x-python",
   "name": "python",
   "nbconvert_exporter": "python",
   "pygments_lexer": "ipython3",
   "version": "3.12.3"
  }
 },
 "nbformat": 4,
 "nbformat_minor": 2
}
